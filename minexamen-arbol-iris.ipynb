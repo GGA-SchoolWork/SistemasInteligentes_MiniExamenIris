{
 "cells": [
  {
   "attachments": {},
   "cell_type": "markdown",
   "metadata": {},
   "source": [
    "Utiliza esta base de datos https://www.kaggle.com/uciml/irisLinks to an external site. para clasificar los diferentes tipos de Iris en base a 2 características, las medidas del sépaloLinks to an external site. y las medidas de los pétalosLinks to an external site., ambos por su ancho y largo."
   ]
  },
  {
   "cell_type": "code",
   "execution_count": null,
   "metadata": {},
   "outputs": [],
   "source": [
    "import pandas as pd\n",
    "import numpy as np\n",
    "from sklearn.model_selection import train_test_split\n",
    "from sklearn.metrics import accuracy_score, confusion_matrix, ConfusionMatrixDisplay\n",
    "from sklearn.tree import DecisionTreeClassifier\n",
    "import matplotlib.pyplot as plt"
   ]
  },
  {
   "cell_type": "code",
   "execution_count": null,
   "metadata": {},
   "outputs": [],
   "source": [
    "# Crear dataframe\n",
    "df = pd.read_csv(\"Iris.csv\")\n",
    "df = df.loc[:,df.columns != 'Id']   # quitamos ID\n",
    "\n",
    "X = df.loc[:,df.columns != 'Species']\n",
    "y = df['Species']"
   ]
  },
  {
   "attachments": {},
   "cell_type": "markdown",
   "metadata": {},
   "source": [
    "# Arbol de Decision"
   ]
  },
  {
   "cell_type": "code",
   "execution_count": null,
   "metadata": {},
   "outputs": [],
   "source": [
    "# Rangos de valores para cada clasificacion\n",
    "setosa_df = df.loc[df['Species'] == 'Iris-setosa']\n",
    "versicolor_df = df.loc[df['Species'] == 'Iris-versicolor']\n",
    "virginica_df = df.loc[df['Species'] == 'Iris-virginica']\n",
    "\n",
    "cols = [\"Species\", \"SepalLengthCm\",\"SepalWidthCm\",\"PetalLengthCm\",\"PetalWidthCm\"]\n",
    "range_df = pd.DataFrame(columns=cols)\n",
    "\n",
    "range_df.loc[len(range_df.index)] = ['Iris-setosa'] + [f'({setosa_df[col].min()}, {setosa_df[col].max()})' for col in cols[1:]]\n",
    "range_df.loc[len(range_df.index)] = ['Iris-versicolor'] + [f'({versicolor_df[col].min()}, {versicolor_df[col].max()})' for col in cols[1:]]\n",
    "range_df.loc[len(range_df.index)] = ['Iris-virginica'] + [f'({virginica_df[col].min()}, {virginica_df[col].max()})' for col in cols[1:]]\n",
    "\n",
    "range_df"
   ]
  },
  {
   "attachments": {},
   "cell_type": "markdown",
   "metadata": {},
   "source": [
    "Viendo los rangos de los valores separados por tipo de Iris, vemos que el largo y ancho de pétalo son una hojas puras. Si el largo de pétalo es menor a 1.9 o el ancho del pétalo es menor a 0.6, sabemos que es Setosa. Para las otras especies debemos analizar la ganancia de información.\n",
    "\n",
    "Luego usamos el DecisionTreeClassifier de SKLearn"
   ]
  },
  {
   "cell_type": "code",
   "execution_count": null,
   "metadata": {},
   "outputs": [],
   "source": [
    "irisTree = DecisionTreeClassifier(criterion=\"entropy\", max_depth=5)\n",
    "irisTree.fit(X, y)"
   ]
  },
  {
   "cell_type": "code",
   "execution_count": null,
   "metadata": {},
   "outputs": [],
   "source": [
    "# Visualizacion\n",
    "\n",
    "from six import StringIO\n",
    "import pydotplus\n",
    "import matplotlib.image as mpimg\n",
    "from sklearn import tree\n",
    "%matplotlib inline \n",
    "dot_data = StringIO()\n",
    "filename = \"irisTree.png\"\n",
    "featureNames = df.columns[:-1]\n",
    "print(featureNames)\n",
    "targetNames = df[\"Species\"].unique().tolist()\n",
    "out=tree.export_graphviz(irisTree,feature_names=featureNames, out_file=dot_data, class_names= np.unique(y), filled=True,  special_characters=True,rotate=False)  \n",
    "graph = pydotplus.graph_from_dot_data(dot_data.getvalue())  \n",
    "graph.write_png(filename)\n",
    "img = mpimg.imread(filename)\n",
    "plt.figure(figsize=(100, 200))\n",
    "plt.imshow(img,interpolation='nearest')"
   ]
  },
  {
   "attachments": {},
   "cell_type": "markdown",
   "metadata": {},
   "source": [
    "Ya visualizado vemos que llegó a la misma conclusión de que PetalWidth y PetalLength llevan a Hojas puras y lo hace primero, luego va separando virginica y versicolor"
   ]
  },
  {
   "attachments": {},
   "cell_type": "markdown",
   "metadata": {},
   "source": [
    "# Clasificador Bayesiano"
   ]
  },
  {
   "cell_type": "code",
   "execution_count": 31,
   "metadata": {},
   "outputs": [
    {
     "name": "stdout",
     "output_type": "stream",
     "text": [
      "dict_items([('Iris-setosa',     SepalLengthCm  SepalWidthCm  PetalLengthCm  PetalWidthCm\n",
      "0             5.1           3.5            1.4           0.2\n",
      "1             4.9           3.0            1.4           0.2\n",
      "2             4.7           3.2            1.3           0.2\n",
      "3             4.6           3.1            1.5           0.2\n",
      "4             5.0           3.6            1.4           0.2\n",
      "5             5.4           3.9            1.7           0.4\n",
      "6             4.6           3.4            1.4           0.3\n",
      "7             5.0           3.4            1.5           0.2\n",
      "8             4.4           2.9            1.4           0.2\n",
      "9             4.9           3.1            1.5           0.1\n",
      "10            5.4           3.7            1.5           0.2\n",
      "11            4.8           3.4            1.6           0.2\n",
      "12            4.8           3.0            1.4           0.1\n",
      "13            4.3           3.0            1.1           0.1\n",
      "14            5.8           4.0            1.2           0.2\n",
      "15            5.7           4.4            1.5           0.4\n",
      "16            5.4           3.9            1.3           0.4\n",
      "17            5.1           3.5            1.4           0.3\n",
      "18            5.7           3.8            1.7           0.3\n",
      "19            5.1           3.8            1.5           0.3\n",
      "20            5.4           3.4            1.7           0.2\n",
      "21            5.1           3.7            1.5           0.4\n",
      "22            4.6           3.6            1.0           0.2\n",
      "23            5.1           3.3            1.7           0.5\n",
      "24            4.8           3.4            1.9           0.2\n",
      "25            5.0           3.0            1.6           0.2\n",
      "26            5.0           3.4            1.6           0.4\n",
      "27            5.2           3.5            1.5           0.2\n",
      "28            5.2           3.4            1.4           0.2\n",
      "29            4.7           3.2            1.6           0.2\n",
      "30            4.8           3.1            1.6           0.2\n",
      "31            5.4           3.4            1.5           0.4\n",
      "32            5.2           4.1            1.5           0.1\n",
      "33            5.5           4.2            1.4           0.2\n",
      "34            4.9           3.1            1.5           0.1\n",
      "35            5.0           3.2            1.2           0.2\n",
      "36            5.5           3.5            1.3           0.2\n",
      "37            4.9           3.1            1.5           0.1\n",
      "38            4.4           3.0            1.3           0.2\n",
      "39            5.1           3.4            1.5           0.2\n",
      "40            5.0           3.5            1.3           0.3\n",
      "41            4.5           2.3            1.3           0.3\n",
      "42            4.4           3.2            1.3           0.2\n",
      "43            5.0           3.5            1.6           0.6\n",
      "44            5.1           3.8            1.9           0.4\n",
      "45            4.8           3.0            1.4           0.3\n",
      "46            5.1           3.8            1.6           0.2\n",
      "47            4.6           3.2            1.4           0.2\n",
      "48            5.3           3.7            1.5           0.2\n",
      "49            5.0           3.3            1.4           0.2), ('Iris-versicolor',     SepalLengthCm  SepalWidthCm  PetalLengthCm  PetalWidthCm\n",
      "50            7.0           3.2            4.7           1.4\n",
      "51            6.4           3.2            4.5           1.5\n",
      "52            6.9           3.1            4.9           1.5\n",
      "53            5.5           2.3            4.0           1.3\n",
      "54            6.5           2.8            4.6           1.5\n",
      "55            5.7           2.8            4.5           1.3\n",
      "56            6.3           3.3            4.7           1.6\n",
      "57            4.9           2.4            3.3           1.0\n",
      "58            6.6           2.9            4.6           1.3\n",
      "59            5.2           2.7            3.9           1.4\n",
      "60            5.0           2.0            3.5           1.0\n",
      "61            5.9           3.0            4.2           1.5\n",
      "62            6.0           2.2            4.0           1.0\n",
      "63            6.1           2.9            4.7           1.4\n",
      "64            5.6           2.9            3.6           1.3\n",
      "65            6.7           3.1            4.4           1.4\n",
      "66            5.6           3.0            4.5           1.5\n",
      "67            5.8           2.7            4.1           1.0\n",
      "68            6.2           2.2            4.5           1.5\n",
      "69            5.6           2.5            3.9           1.1\n",
      "70            5.9           3.2            4.8           1.8\n",
      "71            6.1           2.8            4.0           1.3\n",
      "72            6.3           2.5            4.9           1.5\n",
      "73            6.1           2.8            4.7           1.2\n",
      "74            6.4           2.9            4.3           1.3\n",
      "75            6.6           3.0            4.4           1.4\n",
      "76            6.8           2.8            4.8           1.4\n",
      "77            6.7           3.0            5.0           1.7\n",
      "78            6.0           2.9            4.5           1.5\n",
      "79            5.7           2.6            3.5           1.0\n",
      "80            5.5           2.4            3.8           1.1\n",
      "81            5.5           2.4            3.7           1.0\n",
      "82            5.8           2.7            3.9           1.2\n",
      "83            6.0           2.7            5.1           1.6\n",
      "84            5.4           3.0            4.5           1.5\n",
      "85            6.0           3.4            4.5           1.6\n",
      "86            6.7           3.1            4.7           1.5\n",
      "87            6.3           2.3            4.4           1.3\n",
      "88            5.6           3.0            4.1           1.3\n",
      "89            5.5           2.5            4.0           1.3\n",
      "90            5.5           2.6            4.4           1.2\n",
      "91            6.1           3.0            4.6           1.4\n",
      "92            5.8           2.6            4.0           1.2\n",
      "93            5.0           2.3            3.3           1.0\n",
      "94            5.6           2.7            4.2           1.3\n",
      "95            5.7           3.0            4.2           1.2\n",
      "96            5.7           2.9            4.2           1.3\n",
      "97            6.2           2.9            4.3           1.3\n",
      "98            5.1           2.5            3.0           1.1\n",
      "99            5.7           2.8            4.1           1.3), ('Iris-virginica',      SepalLengthCm  SepalWidthCm  PetalLengthCm  PetalWidthCm\n",
      "100            6.3           3.3            6.0           2.5\n",
      "101            5.8           2.7            5.1           1.9\n",
      "102            7.1           3.0            5.9           2.1\n",
      "103            6.3           2.9            5.6           1.8\n",
      "104            6.5           3.0            5.8           2.2\n",
      "105            7.6           3.0            6.6           2.1\n",
      "106            4.9           2.5            4.5           1.7\n",
      "107            7.3           2.9            6.3           1.8\n",
      "108            6.7           2.5            5.8           1.8\n",
      "109            7.2           3.6            6.1           2.5\n",
      "110            6.5           3.2            5.1           2.0\n",
      "111            6.4           2.7            5.3           1.9\n",
      "112            6.8           3.0            5.5           2.1\n",
      "113            5.7           2.5            5.0           2.0\n",
      "114            5.8           2.8            5.1           2.4\n",
      "115            6.4           3.2            5.3           2.3\n",
      "116            6.5           3.0            5.5           1.8\n",
      "117            7.7           3.8            6.7           2.2\n",
      "118            7.7           2.6            6.9           2.3\n",
      "119            6.0           2.2            5.0           1.5\n",
      "120            6.9           3.2            5.7           2.3\n",
      "121            5.6           2.8            4.9           2.0\n",
      "122            7.7           2.8            6.7           2.0\n",
      "123            6.3           2.7            4.9           1.8\n",
      "124            6.7           3.3            5.7           2.1\n",
      "125            7.2           3.2            6.0           1.8\n",
      "126            6.2           2.8            4.8           1.8\n",
      "127            6.1           3.0            4.9           1.8\n",
      "128            6.4           2.8            5.6           2.1\n",
      "129            7.2           3.0            5.8           1.6\n",
      "130            7.4           2.8            6.1           1.9\n",
      "131            7.9           3.8            6.4           2.0\n",
      "132            6.4           2.8            5.6           2.2\n",
      "133            6.3           2.8            5.1           1.5\n",
      "134            6.1           2.6            5.6           1.4\n",
      "135            7.7           3.0            6.1           2.3\n",
      "136            6.3           3.4            5.6           2.4\n",
      "137            6.4           3.1            5.5           1.8\n",
      "138            6.0           3.0            4.8           1.8\n",
      "139            6.9           3.1            5.4           2.1\n",
      "140            6.7           3.1            5.6           2.4\n",
      "141            6.9           3.1            5.1           2.3\n",
      "142            5.8           2.7            5.1           1.9\n",
      "143            6.8           3.2            5.9           2.3\n",
      "144            6.7           3.3            5.7           2.5\n",
      "145            6.7           3.0            5.2           2.3\n",
      "146            6.3           2.5            5.0           1.9\n",
      "147            6.5           3.0            5.2           2.0\n",
      "148            6.2           3.4            5.4           2.3\n",
      "149            5.9           3.0            5.1           1.8)])\n",
      "SepalLengthCm\n",
      "SepalWidthCm\n",
      "PetalLengthCm\n",
      "PetalWidthCm\n",
      "SepalLengthCm\n",
      "SepalWidthCm\n",
      "PetalLengthCm\n",
      "PetalWidthCm\n",
      "SepalLengthCm\n",
      "SepalWidthCm\n",
      "PetalLengthCm\n",
      "PetalWidthCm\n"
     ]
    },
    {
     "data": {
      "text/plain": [
       "{'Iris-setosa': [(5.005999999999999, 0.3524896872134512, 50),\n",
       "  (3.4180000000000006, 0.38102439795469095, 50),\n",
       "  (1.464, 0.1735111594364455, 50),\n",
       "  (0.2439999999999999, 0.10720950308167837, 50)],\n",
       " 'Iris-versicolor': [(5.936, 0.5161711470638635, 50),\n",
       "  (2.7700000000000005, 0.3137983233784114, 50),\n",
       "  (4.26, 0.46991097723995806, 50),\n",
       "  (1.3259999999999998, 0.197752680004544, 50)],\n",
       " 'Iris-virginica': [(6.587999999999998, 0.635879593274432, 50),\n",
       "  (2.9739999999999998, 0.3224966381726376, 50),\n",
       "  (5.552, 0.5518946956639835, 50),\n",
       "  (2.026, 0.27465005563666733, 50)]}"
      ]
     },
     "execution_count": 31,
     "metadata": {},
     "output_type": "execute_result"
    }
   ],
   "source": [
    "from math import sqrt\n",
    "from sklearn.naive_bayes import GaussianNB\n",
    "\n",
    "X_train, X_test, y_train, y_test = train_test_split(X, y, test_size=0.33, random_state=42)\n",
    "\n",
    "# Split by classes\n",
    "df_classes = {}\n",
    "for species in targetNames:\n",
    "    new_df = df[df['Species'] == species].loc[:,df.columns != 'Species']\n",
    "    df_classes[species] = new_df\n",
    "    \n",
    "# media de iterable\n",
    "def mean(numbers):\n",
    " return sum(numbers)/float(len(numbers))\n",
    " \n",
    "# Calculate the desv estandar de iterable\n",
    "def stdev(numbers):\n",
    " avg = mean(numbers)\n",
    " variance = sum([(x-avg)**2 for x in numbers]) / float(len(numbers)-1)\n",
    " return sqrt(variance)\n",
    " \n",
    "# Calcula atributos estadisticos de df\n",
    "def summarize_dataset(dataset):\n",
    "    summaries = []\n",
    "    for column in dataset:\n",
    "        print(column)\n",
    "        summaries.append((mean(dataset[column]), stdev(dataset[column]), len(dataset[column])))\n",
    "    return summaries\n",
    "\n",
    "print(df_classes.items())\n",
    "\n",
    "# Atributos por columna, por clase\n",
    "summaries = dict()\n",
    "for class_value, rows in df_classes.items():\n",
    "    summaries[class_value] = summarize_dataset(rows)\n",
    "\n",
    "summaries"
   ]
  },
  {
   "cell_type": "code",
   "execution_count": 66,
   "metadata": {},
   "outputs": [
    {
     "data": {
      "text/plain": [
       "0.98"
      ]
     },
     "execution_count": 66,
     "metadata": {},
     "output_type": "execute_result"
    }
   ],
   "source": [
    "from math import exp, pi\n",
    "\n",
    "# Calcula la funcion de distribucion de probabilidad para x\n",
    "def calculate_probability(x, mean, stdev):\n",
    "    exponent = exp(-((x-mean)**2 / (2 * stdev**2 )))\n",
    "    return (1 / (sqrt(2 * pi) * stdev)) * exponent\n",
    "\n",
    "# Calcula la probabilidad de que este en cada clase\n",
    "def calculate_class_probabilities(summaries, row):\n",
    "    total_rows = sum([summaries[label][0][2] for label in summaries])\n",
    "    probabilities = dict()\n",
    "    for class_value, class_summaries in summaries.items():\n",
    "        probabilities[class_value] = summaries[class_value][0][2]/float(total_rows)\n",
    "        for i in range(len(class_summaries)):\n",
    "            mean, stdev, count = class_summaries[i]\n",
    "            probabilities[class_value] *= calculate_probability(row[i], mean, stdev)\n",
    "    return probabilities\n",
    "\n",
    "# Funcion para predecir sobre las filas de un df\n",
    "def naive_bayes_predict(data: pd.DataFrame, summaries):\n",
    "    y_pred = []\n",
    "    # Vectorizamos datos porque .loc no funcionaria al cambiar indices\n",
    "    vectorized_data = [data[col].to_numpy() for col in data]\n",
    "    for f1, f2, f3, f4 in zip(vectorized_data[0],vectorized_data[1],vectorized_data[2],vectorized_data[3]):\n",
    "        # Diccionario con probabilidades\n",
    "        probabilities = calculate_class_probabilities(summaries, [f1,f2,f3,f4])\n",
    "        \n",
    "        # Tomamos la llave del valor mayor\n",
    "        prediction = max(probabilities, key=probabilities.get)\n",
    "        y_pred.append(prediction)\n",
    "        \n",
    "    return y_pred\n",
    "\n",
    "# Evaluamos exactitud del clasificador\n",
    "accuracy_score(naive_bayes_predict(X_test, summaries), y_test)"
   ]
  },
  {
   "cell_type": "code",
   "execution_count": 68,
   "metadata": {},
   "outputs": [
    {
     "name": "stdout",
     "output_type": "stream",
     "text": [
      "0.96\n"
     ]
    },
    {
     "data": {
      "image/png": "[encoded data removed]",
      "text/plain": [
       "<Figure size 640x480 with 2 Axes>"
      ]
     },
     "metadata": {},
     "output_type": "display_data"
    }
   ],
   "source": [
    "# Comparacion contra Naive Bayes de Scikit\n",
    "irisBayes = GaussianNB()\n",
    "irisBayes.fit(X_train, y_train)\n",
    "\n",
    "y_pred = irisBayes.predict(X_test)\n",
    "print(accuracy_score(y_pred, y_test))\n",
    "\n",
    "cm = confusion_matrix(y_test, y_pred, labels=targetNames)\n",
    "disp = ConfusionMatrixDisplay(confusion_matrix=cm, display_labels=targetNames)\n",
    "disp.plot();\n"
   ]
  }
 ],
 "metadata": {
  "kernelspec": {
   "display_name": "AprendizajeAutomatico",
   "language": "python",
   "name": "python3"
  },
  "language_info": {
   "codemirror_mode": {
    "name": "ipython",
    "version": 3
   },
   "file_extension": ".py",
   "mimetype": "text/x-python",
   "name": "python",
   "nbconvert_exporter": "python",
   "pygments_lexer": "ipython3",
   "version": "3.9.16"
  },
  "orig_nbformat": 4
 },
 "nbformat": 4,
 "nbformat_minor": 2
}
